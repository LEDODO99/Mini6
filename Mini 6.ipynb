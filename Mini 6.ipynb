{
 "cells": [
  {
   "cell_type": "markdown",
   "metadata": {},
   "source": [
    "# Mini 6 \n",
    "### Luis Estuardo Delgado 17187"
   ]
  },
  {
   "cell_type": "code",
   "execution_count": 1,
   "metadata": {},
   "outputs": [],
   "source": [
    "import numpy as np\n",
    "import math"
   ]
  },
  {
   "cell_type": "markdown",
   "metadata": {},
   "source": [
    "Definir funciones para validación y ejecución del algoritmo"
   ]
  },
  {
   "cell_type": "code",
   "execution_count": 2,
   "metadata": {},
   "outputs": [],
   "source": [
    "def f1(x1, x2):\n",
    "    return 15*x1 + 30*x2 + 4*x1*x2 - 2*x1**2 - 4*x2**2\n",
    "\n",
    "def f2(x1, x2):\n",
    "    return 3*x1 + 5*x2\n",
    "\n",
    "def f3(x1, x2):\n",
    "    return 5*x1 - x1**2 + 8*x2 - 2*x2**2\n",
    "\n",
    "def valid1(x1, x2):\n",
    "    return ((x1 + 2*x2) <= 30)\n",
    "\n",
    "def valid2(x1, x2):\n",
    "    return ((3*x1 + 2*x2) <= 18)\n",
    "\n",
    "def valid3(x1, x2):\n",
    "    return ((3*x1 + 2*x2) <= 6)\n"
   ]
  },
  {
   "cell_type": "markdown",
   "metadata": {},
   "source": [
    "Función para generar datos de prueba. Se generan n datos donde x y y estan delimitados por un maximo y un minimo independiente y luego se evaluan que cumplan con la funcion de validación asignada a la pareja. El algoritmo exije que se generen n parejas aunque las permutaciones sean menos que n"
   ]
  },
  {
   "cell_type": "code",
   "execution_count": 3,
   "metadata": {},
   "outputs": [],
   "source": [
    "def generar_datos(n, min_x, max_x, min_y, max_y, evaluate):\n",
    "    data = []\n",
    "    #se generan n parejas que cumplen con las restrucciones de x, y y evaluate\n",
    "    while(n>len(data)):\n",
    "        x = np.random.randint(min_x, max_x)\n",
    "        y = np.random.randint(min_y, max_y)\n",
    "        if evaluate(x, y):\n",
    "            data.append([x, y])\n",
    "    return data"
   ]
  },
  {
   "cell_type": "markdown",
   "metadata": {},
   "source": [
    "Algoritmo de generaciones para maximizar la funcion, este prueba multiples parejas para encontrar las parejas que generen el mejor valor para los constraints establecidos previamente"
   ]
  },
  {
   "cell_type": "code",
   "execution_count": 4,
   "metadata": {},
   "outputs": [],
   "source": [
    "def maxim_generaciones(iteraciones, data, funcion, evaluate):\n",
    "    #se establece el máximo como -infinito para que siempre se encuentre uno con las parejas\n",
    "    maximo=-math.inf\n",
    "    contador_iteraciones = 0\n",
    "    while contador_iteraciones < iteraciones:\n",
    "        # Encontrar las parejas de datos que genera la y  más alta\n",
    "        # arreglo para comparar resultados\n",
    "        resultados=[]\n",
    "        # llenamos arreglo de resultados\n",
    "        for x in data:\n",
    "            resultados.append(funcion(x[0],x[1]))\n",
    "        # generamos una copia para saber cuales son las posiciones iniciales de las parejas\n",
    "        res_cop = resultados.copy()\n",
    "        #reordenamos el arreglo para encontrar los 2 datos más grandes\n",
    "        resultados.sort(reverse = True)\n",
    "        #si el dato es más grande que el máximo que hemos encontrado se actualiza el nuevo máximo\n",
    "        if resultados[0] > maximo:\n",
    "            maximo = resultados[0]\n",
    "        #sino es un máximo nuevo llegamos a una nueva iteración del algoritmo\n",
    "        elif resultados[0] == maximo:\n",
    "            contador_iteraciones += 1\n",
    "        # se encuentran las posiciones originales de las parejas que generaron los mejores resultados\n",
    "        ganador1 = res_cop.index(resultados[0])\n",
    "        ganador2 = res_cop.index(resultados[1])\n",
    "        # se toman las nuevas parejas para probar con sus combinaciones\n",
    "        generador1 = data[ganador1]\n",
    "        generador2 = data[ganador2]\n",
    "        # se generan la  lista de las combinaciones de datos de los generadores encontrados\n",
    "        combinaciones = []\n",
    "        dataraw=[]\n",
    "        dataraw.extend(generador1)\n",
    "        dataraw.extend(generador2)\n",
    "        for i in range(0,len(dataraw)-1):\n",
    "            for l in range(i+1,len(dataraw)):\n",
    "                combinaciones.append((dataraw[i],dataraw[l]))\n",
    "        #se crea un nuevo arreglo con las parejas mas fuertes\n",
    "        data = []\n",
    "        data.append(generador1)\n",
    "        data.append(generador2)\n",
    "        #Se encuentra qué parejas de las combinaciones encontradas son posibles candidatos y se mira si hay una mutación en los datos\n",
    "        #La mutacion se hace para encontrar valores nuevos ya que no tenemos garantizado que los valores sean los mejores\n",
    "        for par in combinaciones:\n",
    "            par=np.array(par)\n",
    "            if np.random.uniform() > 0.8:\n",
    "                # Muta los valores hacia arriba o hacia abajo para probar valores sobre y debajo de los candidatos a mejores\n",
    "                if(np.random.randint(0,2)==1):\n",
    "                    par[np.random.randint(0,2)] += 1\n",
    "                else:\n",
    "                    par[np.random.randint(0,2)] -= 1\n",
    "            # Se evalua la pareja para saber si son candidatos, si sí se unen al arreglo\n",
    "            if evaluate(par[0], par[1]):\n",
    "                data.append(par)\n",
    "    # Se devuelven los datos que se estabilizaron como los mejores\n",
    "    return data[0][0],data[0][1], maximo\n"
   ]
  },
  {
   "cell_type": "markdown",
   "metadata": {},
   "source": [
    "### Función: $f(x_{1},x_{2})=15x_{1}+30x_{2}+4x_{1}x_{2}-2x_{1}^{^{2}}-4x_{2}^{^{2}}$\n",
    "#### Constraints:\n",
    "$x_{1}+2x_{2}\\leq 6$\n",
    "\n",
    "$x_{1}\\geq 0,x_{2}\\geq 0,$\n"
   ]
  },
  {
   "cell_type": "code",
   "execution_count": 5,
   "metadata": {},
   "outputs": [
    {
     "name": "stdout",
     "output_type": "stream",
     "text": [
      "Los valores de x1 y x2 que generan el maximo valor son: \n",
      "x1: 12\n",
      "x2: 9\n",
      "El valor maximo es: 270\n"
     ]
    }
   ],
   "source": [
    "# Generar los datos para hacer la primer validación\n",
    "data = generar_datos(10000, 0,30,0,30, valid1)\n",
    "# Encontrar los valores de x1 y x2 para el máximo.\n",
    "x1,x2, maximo = maxim_generaciones(1000, data, f1, valid1)\n",
    "\n",
    "print(\"Los valores de x1 y x2 que generan el maximo valor son: \")\n",
    "print(\"x1:\",x1)\n",
    "print(\"x2:\",x2)\n",
    "print(\"El valor maximo es:\",maximo)\n"
   ]
  },
  {
   "cell_type": "markdown",
   "metadata": {},
   "source": [
    "### Función: $z=3x_{1}+5x_{2}$\n",
    "#### Constraints:\n",
    "$3x_{1}+2x_{2}\\leq 18$\n",
    "\n",
    "$x_{1}\\leq 4$\n",
    "\n",
    "$2x_{2}\\leq 12$\n",
    "\n",
    "$x_{1}\\geq 0,x_{2}\\geq 0,$"
   ]
  },
  {
   "cell_type": "code",
   "execution_count": 6,
   "metadata": {},
   "outputs": [
    {
     "name": "stdout",
     "output_type": "stream",
     "text": [
      "Los valores de x1 y x2 que generan el maximo valor son: \n",
      "x1: 2\n",
      "x2: 6\n",
      "El valor maximo es: 36\n"
     ]
    }
   ],
   "source": [
    "# Generar los datos para hacer la primer validación\n",
    "data = generar_datos(10000, 0,4,0,6, valid2)\n",
    "# Encontrar los valores de x1 y x2 para el máximo.\n",
    "x1,x2, maximo = maxim_generaciones(1000, data, f2, valid2)\n",
    "\n",
    "print(\"Los valores de x1 y x2 que generan el maximo valor son: \")\n",
    "print(\"x1:\",x1)\n",
    "print(\"x2:\",x2)\n",
    "print(\"El valor maximo es:\",maximo)"
   ]
  },
  {
   "cell_type": "markdown",
   "metadata": {},
   "source": [
    "### Función: $f(x_{1},x_{2})=5x_{1}-x_{1} ^{^{2}}+8x_{2}-2x_{2} ^{^{2}}$\n",
    "#### Constraints:\n",
    "$3x_{1}+2x_{2}\\leq 6$\n",
    "\n",
    "$x_{1}\\geq 0,x_{2}\\geq 0,$"
   ]
  },
  {
   "cell_type": "code",
   "execution_count": 7,
   "metadata": {},
   "outputs": [
    {
     "name": "stdout",
     "output_type": "stream",
     "text": [
      "Los valores de x1 y x2 que generan el maximo valor son: \n",
      "x1: 1\n",
      "x2: 1\n",
      "El valor maximo es: 10\n"
     ]
    }
   ],
   "source": [
    "# Generar los datos para hacer la primer validación\n",
    "data = generar_datos(10000, 0,6,0,6, valid3)\n",
    "# Encontrar los valores de x1 y x2 para el máximo.\n",
    "x1,x2, maximo = maxim_generaciones(1000, data, f3, valid3)\n",
    "\n",
    "print(\"Los valores de x1 y x2 que generan el maximo valor son: \")\n",
    "print(\"x1:\",x1)\n",
    "print(\"x2:\",x2)\n",
    "print(\"El valor maximo es:\",maximo)"
   ]
  }
 ],
 "metadata": {
  "language_info": {
   "codemirror_mode": {
    "name": "ipython",
    "version": 3
   },
   "file_extension": ".py",
   "mimetype": "text/x-python",
   "name": "python",
   "nbconvert_exporter": "python",
   "pygments_lexer": "ipython3",
   "version": "3.8.6"
  }
 },
 "nbformat": 4,
 "nbformat_minor": 4
}
